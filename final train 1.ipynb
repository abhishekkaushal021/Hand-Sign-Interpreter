{
 "cells": [
  {
   "cell_type": "code",
   "execution_count": 1,
   "metadata": {},
   "outputs": [
    {
     "name": "stdout",
     "output_type": "stream",
     "text": [
      "4.4.0\n"
     ]
    }
   ],
   "source": [
    "import os\n",
    "import cv2\n",
    "import numpy as np\n",
    "from tqdm import tqdm\n",
    "print(cv2.__version__)\n",
    "import random"
   ]
  },
  {
   "cell_type": "code",
   "execution_count": 7,
   "metadata": {},
   "outputs": [
    {
     "name": "stderr",
     "output_type": "stream",
     "text": [
      "  6%|▌         | 28/501 [00:00<00:01, 277.97it/s]"
     ]
    },
    {
     "name": "stdout",
     "output_type": "stream",
     "text": [
      "C:/Users/jatin goyal/data/train/A\n"
     ]
    },
    {
     "name": "stderr",
     "output_type": "stream",
     "text": [
      "100%|██████████| 501/501 [00:01<00:00, 326.83it/s]\n",
      "  7%|▋         | 33/501 [00:00<00:01, 321.13it/s]"
     ]
    },
    {
     "name": "stdout",
     "output_type": "stream",
     "text": [
      "C:/Users/jatin goyal/data/train/B\n"
     ]
    },
    {
     "name": "stderr",
     "output_type": "stream",
     "text": [
      "100%|██████████| 501/501 [00:01<00:00, 329.84it/s]\n",
      "  7%|▋         | 33/501 [00:00<00:01, 324.31it/s]"
     ]
    },
    {
     "name": "stdout",
     "output_type": "stream",
     "text": [
      "C:/Users/jatin goyal/data/train/C\n"
     ]
    },
    {
     "name": "stderr",
     "output_type": "stream",
     "text": [
      "100%|██████████| 501/501 [00:01<00:00, 320.98it/s]\n",
      "  6%|▋         | 32/501 [00:00<00:01, 318.98it/s]"
     ]
    },
    {
     "name": "stdout",
     "output_type": "stream",
     "text": [
      "C:/Users/jatin goyal/data/train/D\n"
     ]
    },
    {
     "name": "stderr",
     "output_type": "stream",
     "text": [
      "100%|██████████| 501/501 [00:01<00:00, 316.42it/s]\n",
      "  7%|▋         | 33/501 [00:00<00:01, 321.24it/s]"
     ]
    },
    {
     "name": "stdout",
     "output_type": "stream",
     "text": [
      "C:/Users/jatin goyal/data/train/E\n"
     ]
    },
    {
     "name": "stderr",
     "output_type": "stream",
     "text": [
      "100%|██████████| 501/501 [00:01<00:00, 308.18it/s]\n",
      "  6%|▌         | 30/501 [00:00<00:01, 298.43it/s]"
     ]
    },
    {
     "name": "stdout",
     "output_type": "stream",
     "text": [
      "C:/Users/jatin goyal/data/train/F\n"
     ]
    },
    {
     "name": "stderr",
     "output_type": "stream",
     "text": [
      "100%|██████████| 501/501 [00:01<00:00, 302.11it/s]\n",
      "  6%|▋         | 32/501 [00:00<00:01, 311.49it/s]"
     ]
    },
    {
     "name": "stdout",
     "output_type": "stream",
     "text": [
      "C:/Users/jatin goyal/data/train/G\n"
     ]
    },
    {
     "name": "stderr",
     "output_type": "stream",
     "text": [
      "100%|██████████| 501/501 [00:01<00:00, 267.19it/s]\n",
      "  6%|▌         | 28/501 [00:00<00:01, 272.54it/s]"
     ]
    },
    {
     "name": "stdout",
     "output_type": "stream",
     "text": [
      "C:/Users/jatin goyal/data/train/H\n"
     ]
    },
    {
     "name": "stderr",
     "output_type": "stream",
     "text": [
      "100%|██████████| 501/501 [00:01<00:00, 255.13it/s]\n",
      "  5%|▍         | 24/501 [00:00<00:02, 235.85it/s]"
     ]
    },
    {
     "name": "stdout",
     "output_type": "stream",
     "text": [
      "C:/Users/jatin goyal/data/train/I\n"
     ]
    },
    {
     "name": "stderr",
     "output_type": "stream",
     "text": [
      "100%|██████████| 501/501 [00:01<00:00, 261.49it/s]\n",
      "  6%|▌         | 30/501 [00:00<00:01, 294.87it/s]"
     ]
    },
    {
     "name": "stdout",
     "output_type": "stream",
     "text": [
      "C:/Users/jatin goyal/data/train/J\n"
     ]
    },
    {
     "name": "stderr",
     "output_type": "stream",
     "text": [
      "100%|██████████| 501/501 [00:02<00:00, 241.39it/s]\n",
      "  6%|▌         | 28/501 [00:00<00:01, 275.18it/s]"
     ]
    },
    {
     "name": "stdout",
     "output_type": "stream",
     "text": [
      "C:/Users/jatin goyal/data/train/K\n"
     ]
    },
    {
     "name": "stderr",
     "output_type": "stream",
     "text": [
      "100%|██████████| 501/501 [00:02<00:00, 236.50it/s]\n",
      "  5%|▌         | 27/501 [00:00<00:01, 265.36it/s]"
     ]
    },
    {
     "name": "stdout",
     "output_type": "stream",
     "text": [
      "C:/Users/jatin goyal/data/train/L\n"
     ]
    },
    {
     "name": "stderr",
     "output_type": "stream",
     "text": [
      "100%|██████████| 501/501 [00:01<00:00, 254.87it/s]\n",
      "  5%|▌         | 26/501 [00:00<00:01, 255.62it/s]"
     ]
    },
    {
     "name": "stdout",
     "output_type": "stream",
     "text": [
      "C:/Users/jatin goyal/data/train/M\n"
     ]
    },
    {
     "name": "stderr",
     "output_type": "stream",
     "text": [
      "100%|██████████| 501/501 [00:01<00:00, 266.35it/s]\n",
      "  6%|▌         | 28/501 [00:00<00:01, 272.55it/s]"
     ]
    },
    {
     "name": "stdout",
     "output_type": "stream",
     "text": [
      "C:/Users/jatin goyal/data/train/N\n"
     ]
    },
    {
     "name": "stderr",
     "output_type": "stream",
     "text": [
      "100%|██████████| 501/501 [00:01<00:00, 261.36it/s]\n",
      "  5%|▌         | 27/501 [00:00<00:01, 268.07it/s]"
     ]
    },
    {
     "name": "stdout",
     "output_type": "stream",
     "text": [
      "C:/Users/jatin goyal/data/train/O\n"
     ]
    },
    {
     "name": "stderr",
     "output_type": "stream",
     "text": [
      "100%|██████████| 501/501 [00:01<00:00, 254.60it/s]\n",
      "  5%|▌         | 27/501 [00:00<00:01, 268.04it/s]"
     ]
    },
    {
     "name": "stdout",
     "output_type": "stream",
     "text": [
      "C:/Users/jatin goyal/data/train/P\n"
     ]
    },
    {
     "name": "stderr",
     "output_type": "stream",
     "text": [
      "100%|██████████| 501/501 [00:02<00:00, 237.29it/s]\n",
      "  5%|▍         | 25/501 [00:00<00:01, 248.25it/s]"
     ]
    },
    {
     "name": "stdout",
     "output_type": "stream",
     "text": [
      "C:/Users/jatin goyal/data/train/Q\n"
     ]
    },
    {
     "name": "stderr",
     "output_type": "stream",
     "text": [
      "100%|██████████| 501/501 [00:02<00:00, 230.71it/s]\n",
      "  5%|▍         | 25/501 [00:00<00:01, 248.12it/s]"
     ]
    },
    {
     "name": "stdout",
     "output_type": "stream",
     "text": [
      "C:/Users/jatin goyal/data/train/R\n"
     ]
    },
    {
     "name": "stderr",
     "output_type": "stream",
     "text": [
      "100%|██████████| 501/501 [00:02<00:00, 236.25it/s]\n",
      "  5%|▍         | 25/501 [00:00<00:01, 243.36it/s]"
     ]
    },
    {
     "name": "stdout",
     "output_type": "stream",
     "text": [
      "C:/Users/jatin goyal/data/train/S\n"
     ]
    },
    {
     "name": "stderr",
     "output_type": "stream",
     "text": [
      "100%|██████████| 501/501 [00:02<00:00, 224.66it/s]\n",
      "  5%|▍         | 25/501 [00:00<00:01, 248.19it/s]"
     ]
    },
    {
     "name": "stdout",
     "output_type": "stream",
     "text": [
      "C:/Users/jatin goyal/data/train/T\n"
     ]
    },
    {
     "name": "stderr",
     "output_type": "stream",
     "text": [
      "100%|██████████| 501/501 [00:02<00:00, 228.16it/s]\n",
      "  4%|▍         | 22/501 [00:00<00:02, 216.26it/s]"
     ]
    },
    {
     "name": "stdout",
     "output_type": "stream",
     "text": [
      "C:/Users/jatin goyal/data/train/U\n"
     ]
    },
    {
     "name": "stderr",
     "output_type": "stream",
     "text": [
      "100%|██████████| 501/501 [00:02<00:00, 212.60it/s]\n",
      "  5%|▍         | 23/501 [00:00<00:02, 228.33it/s]"
     ]
    },
    {
     "name": "stdout",
     "output_type": "stream",
     "text": [
      "C:/Users/jatin goyal/data/train/V\n"
     ]
    },
    {
     "name": "stderr",
     "output_type": "stream",
     "text": [
      "100%|██████████| 501/501 [00:02<00:00, 225.44it/s]\n",
      "  5%|▍         | 23/501 [00:00<00:02, 226.02it/s]"
     ]
    },
    {
     "name": "stdout",
     "output_type": "stream",
     "text": [
      "C:/Users/jatin goyal/data/train/W\n"
     ]
    },
    {
     "name": "stderr",
     "output_type": "stream",
     "text": [
      "100%|██████████| 501/501 [00:02<00:00, 196.00it/s]\n",
      "  4%|▍         | 20/501 [00:00<00:02, 190.98it/s]"
     ]
    },
    {
     "name": "stdout",
     "output_type": "stream",
     "text": [
      "C:/Users/jatin goyal/data/train/X\n"
     ]
    },
    {
     "name": "stderr",
     "output_type": "stream",
     "text": [
      "100%|██████████| 501/501 [00:02<00:00, 189.59it/s]\n",
      "  4%|▍         | 22/501 [00:00<00:02, 218.35it/s]"
     ]
    },
    {
     "name": "stdout",
     "output_type": "stream",
     "text": [
      "C:/Users/jatin goyal/data/train/Y\n"
     ]
    },
    {
     "name": "stderr",
     "output_type": "stream",
     "text": [
      "100%|██████████| 501/501 [00:02<00:00, 181.19it/s]\n",
      "  4%|▍         | 22/501 [00:00<00:02, 216.26it/s]"
     ]
    },
    {
     "name": "stdout",
     "output_type": "stream",
     "text": [
      "C:/Users/jatin goyal/data/train/Z\n"
     ]
    },
    {
     "name": "stderr",
     "output_type": "stream",
     "text": [
      "100%|██████████| 501/501 [00:02<00:00, 177.25it/s]\n",
      "  4%|▎         | 18/501 [00:00<00:02, 178.79it/s]"
     ]
    },
    {
     "name": "stdout",
     "output_type": "stream",
     "text": [
      "C:/Users/jatin goyal/data/train/space\n"
     ]
    },
    {
     "name": "stderr",
     "output_type": "stream",
     "text": [
      "100%|██████████| 501/501 [00:03<00:00, 165.43it/s]\n",
      "  4%|▍         | 20/501 [00:00<00:02, 192.83it/s]"
     ]
    },
    {
     "name": "stdout",
     "output_type": "stream",
     "text": [
      "C:/Users/jatin goyal/data/train/empty\n"
     ]
    },
    {
     "name": "stderr",
     "output_type": "stream",
     "text": [
      "100%|██████████| 501/501 [00:02<00:00, 192.70it/s]\n",
      "D:\\anaconda3\\envs\\new_environment\\lib\\site-packages\\numpy\\core\\_asarray.py:136: VisibleDeprecationWarning: Creating an ndarray from ragged nested sequences (which is a list-or-tuple of lists-or-tuples-or ndarrays with different lengths or shapes) is deprecated. If you meant to do this, you must specify 'dtype=object' when creating the ndarray\n",
      "  return array(a, dtype, copy=False, order=order, subok=True)\n"
     ]
    }
   ],
   "source": [
    "REBUILD_DATA = True\n",
    "\n",
    "class CNN_ASL():\n",
    "    IMG_SIZE = 150\n",
    "    \n",
    "    A = \"C:/Users/jatin goyal/data/train/A\"\n",
    "    B = \"C:/Users/jatin goyal/data/train/B\"\n",
    "    C = \"C:/Users/jatin goyal/data/train/C\"\n",
    "    D = \"C:/Users/jatin goyal/data/train/D\"\n",
    "    E = \"C:/Users/jatin goyal/data/train/E\"\n",
    "    F = \"C:/Users/jatin goyal/data/train/F\"\n",
    "    G = \"C:/Users/jatin goyal/data/train/G\"\n",
    "    H = \"C:/Users/jatin goyal/data/train/H\"\n",
    "    I = \"C:/Users/jatin goyal/data/train/I\"\n",
    "    J = \"C:/Users/jatin goyal/data/train/J\"\n",
    "    K = \"C:/Users/jatin goyal/data/train/K\"\n",
    "    L = \"C:/Users/jatin goyal/data/train/L\"\n",
    "    M = \"C:/Users/jatin goyal/data/train/M\"\n",
    "    N = \"C:/Users/jatin goyal/data/train/N\"\n",
    "    O = \"C:/Users/jatin goyal/data/train/O\"\n",
    "    P = \"C:/Users/jatin goyal/data/train/P\"\n",
    "    Q = \"C:/Users/jatin goyal/data/train/Q\"\n",
    "    R = \"C:/Users/jatin goyal/data/train/R\"\n",
    "    S = \"C:/Users/jatin goyal/data/train/S\"\n",
    "    T = \"C:/Users/jatin goyal/data/train/T\"\n",
    "    U = \"C:/Users/jatin goyal/data/train/U\"\n",
    "    V = \"C:/Users/jatin goyal/data/train/V\"\n",
    "    W = \"C:/Users/jatin goyal/data/train/W\"\n",
    "    X = \"C:/Users/jatin goyal/data/train/X\"\n",
    "    Y = \"C:/Users/jatin goyal/data/train/Y\"\n",
    "    Z = \"C:/Users/jatin goyal/data/train/Z\"\n",
    "    space = \"C:/Users/jatin goyal/data/train/space\"\n",
    "    empty=\"C:/Users/jatin goyal/data/train/empty\"\n",
    "    \n",
    "    LABELS = {A: 0, B: 1, C: 2, D:3, E:4, F:5, G:6, H:7, I:8, J:9, K:10, L:11, M:12, N:13, O:14, P:15, Q:16, R:17, S:18, T:19, U:20, V:21, W:22, X:23, Y:24, Z:25,space:26,empty:27}\n",
    "    \n",
    "    training_data = []\n",
    "\n",
    "    def make_training_data(self):\n",
    "        for label in self.LABELS:\n",
    "            print(label)\n",
    "            for file in tqdm(os.listdir(label)):\n",
    "                if \"jpg\" in file:\n",
    "                    try:\n",
    "                        path = os.path.join(label, file)\n",
    "                        img = cv2.imread(path, cv2.IMREAD_GRAYSCALE)\n",
    "                        blur = cv2.GaussianBlur(img,(7,7),2)\n",
    "    \n",
    "                        minValue = 130\n",
    "                        adap_thres = cv2.adaptiveThreshold(blur,255,cv2.ADAPTIVE_THRESH_GAUSSIAN_C,cv2.THRESH_BINARY_INV,11,2)\n",
    "                        ret, test_image = cv2.threshold(adap_thres, minValue, 255, cv2.THRESH_BINARY_INV+cv2.THRESH_OTSU)\n",
    "                \n",
    "                        img = cv2.resize(test_image, (self.IMG_SIZE, self.IMG_SIZE))\n",
    "                    \n",
    "                        self.training_data.append([np.array(img), np.eye(28)[self.LABELS[label]]]) \n",
    "                        #print(np.eye(28)[self.LABELS[label]])\n",
    "\n",
    "                    except Exception as e:\n",
    "                        #pass\n",
    "                        print(label, file, str(e))\n",
    "\n",
    "        np.random.shuffle(self.training_data)\n",
    "       \n",
    "        np.save(\"training_data_own.npy\", self.training_data)\n",
    "if REBUILD_DATA:\n",
    "    cnn_asl = CNN_ASL()\n",
    "    cnn_asl.make_training_data()\n",
    "\n",
    "\n"
   ]
  },
  {
   "cell_type": "code",
   "execution_count": 8,
   "metadata": {},
   "outputs": [
    {
     "name": "stdout",
     "output_type": "stream",
     "text": [
      "14028\n"
     ]
    }
   ],
   "source": [
    "training_data = np.load(\"training_data_own.npy\", allow_pickle=True)\n",
    "print(len(training_data))"
   ]
  },
  {
   "cell_type": "code",
   "execution_count": 9,
   "metadata": {
    "scrolled": true
   },
   "outputs": [
    {
     "name": "stdout",
     "output_type": "stream",
     "text": [
      "[array([[  0,   0, 128, ...,   0,   0,   0],\n",
      "       [  0, 191, 255, ..., 255, 128, 255],\n",
      "       [128, 255, 255, ..., 255, 255, 255],\n",
      "       ...,\n",
      "       [  0, 191, 255, ..., 255, 255, 255],\n",
      "       [  0, 255, 255, ..., 255, 255, 255],\n",
      "       [  0, 255, 255, ..., 255, 255, 255]], dtype=uint8)\n",
      " array([0., 0., 0., 0., 0., 0., 0., 0., 0., 0., 0., 0., 0., 0., 0., 0., 0.,\n",
      "       0., 0., 0., 1., 0., 0., 0., 0., 0., 0., 0.])]\n"
     ]
    },
    {
     "data": {
      "text/plain": [
       "<matplotlib.image.AxesImage at 0x2051b837248>"
      ]
     },
     "execution_count": 9,
     "metadata": {},
     "output_type": "execute_result"
    },
    {
     "data": {
      "image/png": "[encoded data removed]",
      "text/plain": [
       "<Figure size 432x288 with 1 Axes>"
      ]
     },
     "metadata": {
      "needs_background": "light"
     },
     "output_type": "display_data"
    }
   ],
   "source": [
    "print(training_data[20])\n",
    "\n",
    "import matplotlib.pyplot as plt\n",
    "plt.imshow(training_data[20][0], cmap=\"gray\")"
   ]
  },
  {
   "cell_type": "code",
   "execution_count": 11,
   "metadata": {},
   "outputs": [],
   "source": [
    "import torch\n",
    "import torch.nn as nn\n",
    "import torch.nn.functional as F\n",
    "\n",
    "IMG_SIZE = 150"
   ]
  },
  {
   "cell_type": "code",
   "execution_count": 12,
   "metadata": {},
   "outputs": [
    {
     "name": "stdout",
     "output_type": "stream",
     "text": [
      "1.6.0\n"
     ]
    }
   ],
   "source": [
    "print(torch.__version__)"
   ]
  },
  {
   "cell_type": "code",
   "execution_count": 13,
   "metadata": {},
   "outputs": [
    {
     "name": "stdout",
     "output_type": "stream",
     "text": [
      "Net(\n",
      "  (conv1): Conv2d(1, 32, kernel_size=(3, 3), stride=(1, 1))\n",
      "  (conv2): Conv2d(32, 64, kernel_size=(3, 3), stride=(1, 1))\n",
      "  (conv3): Conv2d(64, 128, kernel_size=(3, 3), stride=(1, 1))\n",
      "  (fc1): Linear(in_features=36992, out_features=512, bias=True)\n",
      "  (fc2): Linear(in_features=512, out_features=28, bias=True)\n",
      ")\n"
     ]
    }
   ],
   "source": [
    "class Net(nn.Module):\n",
    "    def __init__(self):\n",
    "        super().__init__()\n",
    "        self.conv1 = nn.Conv2d(1, 32, 3)\n",
    "        self.conv2 = nn.Conv2d(32, 64, 3)\n",
    "        self.conv3 = nn.Conv2d(64, 128, 3)\n",
    "\n",
    "        x = torch.randn(IMG_SIZE,IMG_SIZE).view(-1,1,IMG_SIZE,IMG_SIZE)\n",
    "        self._to_linear = None\n",
    "        self.convs(x)\n",
    "\n",
    "        self.fc1 = nn.Linear(self._to_linear, 512) #flattening step \n",
    "        self.fc2 = nn.Linear(512, 28)\n",
    "\n",
    "    def convs(self, x):\n",
    "        drp = nn.Dropout(0.25)\n",
    "        \n",
    "        x = F.max_pool2d(F.relu(self.conv1(x)), (2, 2))\n",
    "        x = drp(x)\n",
    "        x = F.max_pool2d(F.relu(self.conv2(x)), (2, 2))\n",
    "        x = drp(x)\n",
    "        x = F.max_pool2d(F.relu(self.conv3(x)), (2, 2))\n",
    "        x = drp(x)\n",
    "\n",
    "        if self._to_linear is None:\n",
    "            self._to_linear = x[0].shape[0]*x[0].shape[1]*x[0].shape[2]\n",
    "        return x\n",
    "\n",
    "    def forward(self, x):\n",
    "        x = self.convs(x)\n",
    "        x = x.view(-1, self._to_linear)\n",
    "        x = F.relu(self.fc1(x))\n",
    "        x = self.fc2(x)\n",
    "        return F.softmax(x, dim=1)\n",
    "\n",
    "\n",
    "net = Net()\n",
    "print(net)"
   ]
  },
  {
   "cell_type": "code",
   "execution_count": 14,
   "metadata": {},
   "outputs": [],
   "source": [
    "import torch.optim as optim\n",
    "\n",
    "optimizer = optim.Adam(net.parameters(), lr=0.001)\n",
    "loss_function = nn.MSELoss()"
   ]
  },
  {
   "cell_type": "code",
   "execution_count": 15,
   "metadata": {},
   "outputs": [
    {
     "name": "stderr",
     "output_type": "stream",
     "text": [
      "100%|██████████| 14028/14028 [00:00<00:00, 781377.11it/s]\n",
      "100%|██████████| 14028/14028 [00:00<00:00, 1004673.46it/s]\n"
     ]
    }
   ],
   "source": [
    "X = torch.Tensor([i[0] for i in tqdm(training_data)]).view(-1,150,150)\n",
    "X = X/255.0\n",
    "y = torch.Tensor([i[1] for i in tqdm(training_data)])"
   ]
  },
  {
   "cell_type": "code",
   "execution_count": 16,
   "metadata": {},
   "outputs": [
    {
     "name": "stdout",
     "output_type": "stream",
     "text": [
      "torch.Size([14028, 150, 150])\n",
      "torch.Size([150, 150])\n",
      "torch.Size([14028, 28])\n"
     ]
    }
   ],
   "source": [
    "print(X.shape)\n",
    "print(X[0].shape)\n",
    "print(y.shape)"
   ]
  },
  {
   "cell_type": "code",
   "execution_count": 17,
   "metadata": {
    "scrolled": true
   },
   "outputs": [
    {
     "name": "stdout",
     "output_type": "stream",
     "text": [
      "1402\n",
      "12626 1402\n"
     ]
    }
   ],
   "source": [
    "#\n",
    "VAL_PCT = 0.1  #10% training dataset for validation\n",
    "val_size = int(len(X)*VAL_PCT)\n",
    "print(val_size)\n",
    "\n",
    "train_X = X[:-val_size]\n",
    "train_y = y[:-val_size]\n",
    "\n",
    "test_X = X[-val_size:]\n",
    "test_y = y[-val_size:]\n",
    "\n",
    "print(len(train_X), len(test_X))"
   ]
  },
  {
   "cell_type": "code",
   "execution_count": 18,
   "metadata": {},
   "outputs": [],
   "source": [
    "BATCH_SIZE = 32\n",
    "EPOCHS = 25"
   ]
  },
  {
   "cell_type": "code",
   "execution_count": 19,
   "metadata": {},
   "outputs": [],
   "source": [
    "def validation_accuracy_check(epochs):\n",
    "    correct = 0\n",
    "    total = 0\n",
    "    with torch.no_grad():\n",
    "        for i in tqdm(range(len(test_X))):\n",
    "            real_class = torch.argmax(test_y[i])\n",
    "            net_out = net(test_X[i].view(-1, 1, 150, 150))[0]  # returns a list\n",
    "            predicted_class = torch.argmax(net_out)\n",
    "\n",
    "            if predicted_class == real_class:\n",
    "                correct += 1\n",
    "            total += 1\n",
    "    print(\"Accuracy: \", round(correct/total, 3), \" (at EPOCHS=\", epochs, \")\")"
   ]
  },
  {
   "cell_type": "code",
   "execution_count": 20,
   "metadata": {
    "scrolled": true
   },
   "outputs": [
    {
     "name": "stderr",
     "output_type": "stream",
     "text": [
      "100%|██████████| 395/395 [08:06<00:00,  1.23s/it]\n",
      "100%|██████████| 1402/1402 [00:48<00:00, 28.94it/s]\n",
      "  0%|          | 0/395 [00:00<?, ?it/s]"
     ]
    },
    {
     "name": "stdout",
     "output_type": "stream",
     "text": [
      "Accuracy:  0.496  (at EPOCHS= 25 )\n",
      "Epoch: 0. Loss: 0.027919240295886993\n"
     ]
    },
    {
     "name": "stderr",
     "output_type": "stream",
     "text": [
      "100%|██████████| 395/395 [07:57<00:00,  1.21s/it]\n",
      "100%|██████████| 1402/1402 [00:47<00:00, 29.67it/s]\n",
      "  0%|          | 0/395 [00:00<?, ?it/s]"
     ]
    },
    {
     "name": "stdout",
     "output_type": "stream",
     "text": [
      "Accuracy:  0.949  (at EPOCHS= 25 )\n",
      "Epoch: 1. Loss: 0.0016970857977867126\n"
     ]
    },
    {
     "name": "stderr",
     "output_type": "stream",
     "text": [
      "100%|██████████| 395/395 [08:33<00:00,  1.30s/it]\n",
      "100%|██████████| 1402/1402 [00:42<00:00, 32.75it/s]\n",
      "  0%|          | 0/395 [00:00<?, ?it/s]"
     ]
    },
    {
     "name": "stdout",
     "output_type": "stream",
     "text": [
      "Accuracy:  0.979  (at EPOCHS= 25 )\n",
      "Epoch: 2. Loss: 0.0011054842034354806\n"
     ]
    },
    {
     "name": "stderr",
     "output_type": "stream",
     "text": [
      "100%|██████████| 395/395 [08:15<00:00,  1.26s/it]\n",
      "100%|██████████| 1402/1402 [00:42<00:00, 32.99it/s]\n",
      "  0%|          | 0/395 [00:00<?, ?it/s]"
     ]
    },
    {
     "name": "stdout",
     "output_type": "stream",
     "text": [
      "Accuracy:  0.976  (at EPOCHS= 25 )\n",
      "Epoch: 3. Loss: 0.0029381338972598314\n"
     ]
    },
    {
     "name": "stderr",
     "output_type": "stream",
     "text": [
      "100%|██████████| 395/395 [08:23<00:00,  1.27s/it]\n",
      "100%|██████████| 1402/1402 [00:46<00:00, 30.07it/s]\n",
      "  0%|          | 0/395 [00:00<?, ?it/s]"
     ]
    },
    {
     "name": "stdout",
     "output_type": "stream",
     "text": [
      "Accuracy:  0.981  (at EPOCHS= 25 )\n",
      "Epoch: 4. Loss: 3.20115951524258e-08\n"
     ]
    },
    {
     "name": "stderr",
     "output_type": "stream",
     "text": [
      "100%|██████████| 395/395 [08:43<00:00,  1.33s/it]\n",
      "100%|██████████| 1402/1402 [00:41<00:00, 33.69it/s]\n",
      "  0%|          | 0/395 [00:00<?, ?it/s]"
     ]
    },
    {
     "name": "stdout",
     "output_type": "stream",
     "text": [
      "Accuracy:  0.981  (at EPOCHS= 25 )\n",
      "Epoch: 5. Loss: 0.001532063353806734\n"
     ]
    },
    {
     "name": "stderr",
     "output_type": "stream",
     "text": [
      "100%|██████████| 395/395 [08:32<00:00,  1.30s/it]\n",
      "100%|██████████| 1402/1402 [00:47<00:00, 29.44it/s]\n",
      "  0%|          | 0/395 [00:00<?, ?it/s]"
     ]
    },
    {
     "name": "stdout",
     "output_type": "stream",
     "text": [
      "Accuracy:  0.989  (at EPOCHS= 25 )\n",
      "Epoch: 6. Loss: 2.664465228008339e-06\n"
     ]
    },
    {
     "name": "stderr",
     "output_type": "stream",
     "text": [
      "100%|██████████| 395/395 [08:52<00:00,  1.35s/it]\n",
      "100%|██████████| 1402/1402 [00:47<00:00, 29.53it/s]\n",
      "  0%|          | 0/395 [00:00<?, ?it/s]"
     ]
    },
    {
     "name": "stdout",
     "output_type": "stream",
     "text": [
      "Accuracy:  0.982  (at EPOCHS= 25 )\n",
      "Epoch: 7. Loss: 6.87061287862889e-07\n"
     ]
    },
    {
     "name": "stderr",
     "output_type": "stream",
     "text": [
      "100%|██████████| 395/395 [08:57<00:00,  1.36s/it]\n",
      "100%|██████████| 1402/1402 [00:41<00:00, 33.85it/s]\n",
      "  0%|          | 0/395 [00:00<?, ?it/s]"
     ]
    },
    {
     "name": "stdout",
     "output_type": "stream",
     "text": [
      "Accuracy:  0.984  (at EPOCHS= 25 )\n",
      "Epoch: 8. Loss: 1.0572264841357537e-07\n"
     ]
    },
    {
     "name": "stderr",
     "output_type": "stream",
     "text": [
      "100%|██████████| 395/395 [08:36<00:00,  1.31s/it]\n",
      "100%|██████████| 1402/1402 [00:47<00:00, 29.74it/s]\n",
      "  0%|          | 0/395 [00:00<?, ?it/s]"
     ]
    },
    {
     "name": "stdout",
     "output_type": "stream",
     "text": [
      "Accuracy:  0.989  (at EPOCHS= 25 )\n",
      "Epoch: 9. Loss: 3.5895736383295684e-10\n"
     ]
    },
    {
     "name": "stderr",
     "output_type": "stream",
     "text": [
      "100%|██████████| 395/395 [08:55<00:00,  1.36s/it]\n",
      "100%|██████████| 1402/1402 [00:43<00:00, 31.96it/s]\n",
      "  0%|          | 0/395 [00:00<?, ?it/s]"
     ]
    },
    {
     "name": "stdout",
     "output_type": "stream",
     "text": [
      "Accuracy:  0.982  (at EPOCHS= 25 )\n",
      "Epoch: 10. Loss: 2.591958718767273e-07\n"
     ]
    },
    {
     "name": "stderr",
     "output_type": "stream",
     "text": [
      "100%|██████████| 395/395 [09:10<00:00,  1.39s/it]\n",
      "100%|██████████| 1402/1402 [00:45<00:00, 31.07it/s]\n",
      "  0%|          | 0/395 [00:00<?, ?it/s]"
     ]
    },
    {
     "name": "stdout",
     "output_type": "stream",
     "text": [
      "Accuracy:  0.983  (at EPOCHS= 25 )\n",
      "Epoch: 11. Loss: 1.9771712045368872e-11\n"
     ]
    },
    {
     "name": "stderr",
     "output_type": "stream",
     "text": [
      "100%|██████████| 395/395 [08:52<00:00,  1.35s/it]\n",
      "100%|██████████| 1402/1402 [00:41<00:00, 33.40it/s]\n",
      "  0%|          | 0/395 [00:00<?, ?it/s]"
     ]
    },
    {
     "name": "stdout",
     "output_type": "stream",
     "text": [
      "Accuracy:  0.984  (at EPOCHS= 25 )\n",
      "Epoch: 12. Loss: 1.307480983824024e-16\n"
     ]
    },
    {
     "name": "stderr",
     "output_type": "stream",
     "text": [
      "100%|██████████| 395/395 [08:39<00:00,  1.32s/it]\n",
      "100%|██████████| 1402/1402 [00:41<00:00, 33.60it/s]\n",
      "  0%|          | 0/395 [00:00<?, ?it/s]"
     ]
    },
    {
     "name": "stdout",
     "output_type": "stream",
     "text": [
      "Accuracy:  0.989  (at EPOCHS= 25 )\n",
      "Epoch: 13. Loss: 1.2100989654761918e-10\n"
     ]
    },
    {
     "name": "stderr",
     "output_type": "stream",
     "text": [
      "100%|██████████| 395/395 [09:15<00:00,  1.41s/it]\n",
      "100%|██████████| 1402/1402 [00:46<00:00, 30.01it/s]\n",
      "  0%|          | 0/395 [00:00<?, ?it/s]"
     ]
    },
    {
     "name": "stdout",
     "output_type": "stream",
     "text": [
      "Accuracy:  0.987  (at EPOCHS= 25 )\n",
      "Epoch: 14. Loss: 4.2505220676503086e-07\n"
     ]
    },
    {
     "name": "stderr",
     "output_type": "stream",
     "text": [
      "100%|██████████| 395/395 [08:55<00:00,  1.36s/it]\n",
      "100%|██████████| 1402/1402 [00:46<00:00, 30.47it/s]\n",
      "  0%|          | 0/395 [00:00<?, ?it/s]"
     ]
    },
    {
     "name": "stdout",
     "output_type": "stream",
     "text": [
      "Accuracy:  0.986  (at EPOCHS= 25 )\n",
      "Epoch: 15. Loss: 0.0021988190710544586\n"
     ]
    },
    {
     "name": "stderr",
     "output_type": "stream",
     "text": [
      "100%|██████████| 395/395 [09:05<00:00,  1.38s/it]\n",
      "100%|██████████| 1402/1402 [00:41<00:00, 33.74it/s]\n",
      "  0%|          | 0/395 [00:00<?, ?it/s]"
     ]
    },
    {
     "name": "stdout",
     "output_type": "stream",
     "text": [
      "Accuracy:  0.982  (at EPOCHS= 25 )\n",
      "Epoch: 16. Loss: 2.2032224933354883e-09\n"
     ]
    },
    {
     "name": "stderr",
     "output_type": "stream",
     "text": [
      "100%|██████████| 395/395 [08:45<00:00,  1.33s/it]\n",
      "100%|██████████| 1402/1402 [00:42<00:00, 32.63it/s]\n",
      "  0%|          | 0/395 [00:00<?, ?it/s]"
     ]
    },
    {
     "name": "stdout",
     "output_type": "stream",
     "text": [
      "Accuracy:  0.987  (at EPOCHS= 25 )\n",
      "Epoch: 17. Loss: 5.1559094771391756e-09\n"
     ]
    },
    {
     "name": "stderr",
     "output_type": "stream",
     "text": [
      "100%|██████████| 395/395 [09:23<00:00,  1.43s/it]\n",
      "100%|██████████| 1402/1402 [00:43<00:00, 31.99it/s]\n",
      "  0%|          | 0/395 [00:00<?, ?it/s]"
     ]
    },
    {
     "name": "stdout",
     "output_type": "stream",
     "text": [
      "Accuracy:  0.984  (at EPOCHS= 25 )\n",
      "Epoch: 18. Loss: 1.0237914682686977e-11\n"
     ]
    },
    {
     "name": "stderr",
     "output_type": "stream",
     "text": [
      "100%|██████████| 395/395 [08:45<00:00,  1.33s/it]\n",
      "100%|██████████| 1402/1402 [00:42<00:00, 33.18it/s]\n",
      "  0%|          | 0/395 [00:00<?, ?it/s]"
     ]
    },
    {
     "name": "stdout",
     "output_type": "stream",
     "text": [
      "Accuracy:  0.986  (at EPOCHS= 25 )\n",
      "Epoch: 19. Loss: 0.0022110329009592533\n"
     ]
    },
    {
     "name": "stderr",
     "output_type": "stream",
     "text": [
      "100%|██████████| 395/395 [09:22<00:00,  1.42s/it]\n",
      "100%|██████████| 1402/1402 [00:46<00:00, 30.00it/s]\n",
      "  0%|          | 0/395 [00:00<?, ?it/s]"
     ]
    },
    {
     "name": "stdout",
     "output_type": "stream",
     "text": [
      "Accuracy:  0.991  (at EPOCHS= 25 )\n",
      "Epoch: 20. Loss: 8.822438287321806e-20\n"
     ]
    },
    {
     "name": "stderr",
     "output_type": "stream",
     "text": [
      "100%|██████████| 395/395 [09:17<00:00,  1.41s/it]\n",
      "100%|██████████| 1402/1402 [00:47<00:00, 29.72it/s]\n",
      "  0%|          | 0/395 [00:00<?, ?it/s]"
     ]
    },
    {
     "name": "stdout",
     "output_type": "stream",
     "text": [
      "Accuracy:  0.983  (at EPOCHS= 25 )\n",
      "Epoch: 21. Loss: 1.810855432550734e-15\n"
     ]
    },
    {
     "name": "stderr",
     "output_type": "stream",
     "text": [
      "100%|██████████| 395/395 [09:28<00:00,  1.44s/it]\n",
      "100%|██████████| 1402/1402 [00:42<00:00, 33.01it/s]\n",
      "  0%|          | 0/395 [00:00<?, ?it/s]"
     ]
    },
    {
     "name": "stdout",
     "output_type": "stream",
     "text": [
      "Accuracy:  0.981  (at EPOCHS= 25 )\n",
      "Epoch: 22. Loss: 0.002023270120844245\n"
     ]
    },
    {
     "name": "stderr",
     "output_type": "stream",
     "text": [
      "100%|██████████| 395/395 [09:33<00:00,  1.45s/it]\n",
      "100%|██████████| 1402/1402 [00:46<00:00, 30.15it/s]\n",
      "  0%|          | 0/395 [00:00<?, ?it/s]"
     ]
    },
    {
     "name": "stdout",
     "output_type": "stream",
     "text": [
      "Accuracy:  0.986  (at EPOCHS= 25 )\n",
      "Epoch: 23. Loss: 0.0006400650017894804\n"
     ]
    },
    {
     "name": "stderr",
     "output_type": "stream",
     "text": [
      "100%|██████████| 395/395 [09:22<00:00,  1.42s/it]\n",
      "100%|██████████| 1402/1402 [00:46<00:00, 29.95it/s]"
     ]
    },
    {
     "name": "stdout",
     "output_type": "stream",
     "text": [
      "Accuracy:  0.986  (at EPOCHS= 25 )\n",
      "Epoch: 24. Loss: 4.8621728286634986e-15\n"
     ]
    },
    {
     "name": "stderr",
     "output_type": "stream",
     "text": [
      "\n"
     ]
    }
   ],
   "source": [
    "for epoch in range(EPOCHS):\n",
    "    for i in tqdm(range(0, len(train_X), BATCH_SIZE)):\n",
    "        #print(f\"{i}:{i+BATCH_SIZE}\")\n",
    "        batch_X = train_X[i:i+BATCH_SIZE].view(-1, 1, IMG_SIZE, IMG_SIZE)\n",
    "        batch_y = train_y[i:i+BATCH_SIZE]\n",
    "\n",
    "        net.zero_grad()\n",
    "\n",
    "        outputs = net(batch_X)\n",
    "        loss = loss_function(outputs,batch_y)\n",
    "        loss.backward()\n",
    "        \n",
    "        optimizer.step() \n",
    "        \n",
    "    validation_accuracy_check(EPOCHS)\n",
    "    print(f\"Epoch: {epoch}. Loss: {loss}\")"
   ]
  },
  {
   "cell_type": "code",
   "execution_count": 26,
   "metadata": {},
   "outputs": [],
   "source": [
    "model_save_path = \"C:/Users/jatin goyal/\"\n",
    "\n",
    "torch.save(net, os.path.join(model_save_path, \"CNNmodel_new.pth\"))\n",
    "    "
   ]
  },
  {
   "cell_type": "code",
   "execution_count": null,
   "metadata": {},
   "outputs": [],
   "source": []
  }
 ],
 "metadata": {
  "kernelspec": {
   "display_name": "Python 3",
   "language": "python",
   "name": "python3"
  },
  "language_info": {
   "codemirror_mode": {
    "name": "ipython",
    "version": 3
   },
   "file_extension": ".py",
   "mimetype": "text/x-python",
   "name": "python",
   "nbconvert_exporter": "python",
   "pygments_lexer": "ipython3",
   "version": "3.7.6"
  }
 },
 "nbformat": 4,
 "nbformat_minor": 4
}
